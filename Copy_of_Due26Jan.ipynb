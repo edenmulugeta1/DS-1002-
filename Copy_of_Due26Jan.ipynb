{
  "nbformat": 4,
  "nbformat_minor": 0,
  "metadata": {
    "colab": {
      "provenance": [],
      "include_colab_link": true
    },
    "kernelspec": {
      "name": "python3",
      "display_name": "Python 3"
    },
    "language_info": {
      "name": "python"
    }
  },
  "cells": [
    {
      "cell_type": "markdown",
      "metadata": {
        "id": "view-in-github",
        "colab_type": "text"
      },
      "source": [
        "<a href=\"https://colab.research.google.com/github/edenmulugeta1/DS-1002-/blob/main/Copy_of_Due26Jan.ipynb\" target=\"_parent\"><img src=\"https://colab.research.google.com/assets/colab-badge.svg\" alt=\"Open In Colab\"/></a>"
      ]
    },
    {
      "cell_type": "markdown",
      "source": [
        "\n",
        "# Assignment due 26 Jan\n",
        "\n",
        "\n",
        "\n",
        "---\n",
        "\n",
        "\n",
        "The main purpose of this assignment is to make sure we are exchanging documents effectively.  Once you have opened this notebook in Colab, try to save it (in Colab) and see what happens.  You will have to make your own copy first.  So, do that.  From now on, you will be editing your own copy of the notebook and you can and should save your own work.\n",
        "\n",
        "When it is complete and you are ready to submit it, save a copy to the GitHub repository that you've shared with me (do this using the File drop-down menu).  **When you save to GitHub, there is a checkbox option to include a link to Colab.**  Do this!\n",
        "\n",
        "Then go to your GitHub repository where you will find the .ipynb file saved.  (You may be taken there automatically.)\n",
        "You will see the document inside a frame that is part of the GitHub page. Click the blue \"Open in Colab\" patch at the top of the document.\n",
        "\n",
        "This will open a new tab with the Colab notebook in it.  At this point you probably have two different tabs with the same Colab notebook.  Compare the two urls in your browser.  The new one will start with colab, but it will also have github in it, and some other information.  (It'll also say \"blob\" somewhere, I think.)  **This is the url you should submit to the Canvas site.**\n",
        "\n",
        "Be careful:  don't submit the url from the original Colab tab that you were working in!  That one also starts with colab but it ends with a string of gibberish.  Make sure you submit the appropriate url.\n",
        "\n",
        "\n",
        "---\n",
        "\n"
      ],
      "metadata": {
        "id": "5uwkFIE_YeQu"
      }
    },
    {
      "cell_type": "markdown",
      "source": [
        "So now, on to the rest of the assignment.\n"
      ],
      "metadata": {
        "id": "1RY0gTutaPJg"
      }
    },
    {
      "cell_type": "markdown",
      "source": [
        "First, add a text box below this line, and in it, tell me whether you've read the syllabus."
      ],
      "metadata": {
        "id": "AqHsqNDqYSu4"
      }
    },
    {
      "cell_type": "markdown",
      "source": [
        "I have read the syllabus."
      ],
      "metadata": {
        "id": "kU0eOsRhg34q"
      }
    },
    {
      "cell_type": "markdown",
      "source": [
        "Next, add a code chunk below this paragraph.  In the code chunk, define a variable with an integer value and another variable with a string value.  (Remember, an integer is a whole number.)\n",
        "Then, write a line of code that prints the square of the integer (the integer times itself).\n",
        "What happens if you try to add the integer and the string together?"
      ],
      "metadata": {
        "id": "JcO1iMUBYcS6"
      }
    },
    {
      "cell_type": "code",
      "source": [
        "x = 5\n",
        "y = \"hello\"\n",
        "print(x**x)"
      ],
      "metadata": {
        "colab": {
          "base_uri": "https://localhost:8080/"
        },
        "id": "ug1aqzpxg6sm",
        "outputId": "04b6b048-314a-4d7a-9fa5-6a06dce9c20a"
      },
      "execution_count": 7,
      "outputs": [
        {
          "output_type": "stream",
          "name": "stdout",
          "text": [
            "3125\n"
          ]
        }
      ]
    },
    {
      "cell_type": "code",
      "source": [
        "x+y\n",
        "#We can't add integer and string together, if we do it will give us error unless we type cast it (change the integer to a string using str())."
      ],
      "metadata": {
        "colab": {
          "base_uri": "https://localhost:8080/",
          "height": 193
        },
        "id": "hoUFScoziScz",
        "outputId": "b515165f-20d0-43b1-a935-725fd6e03bac"
      },
      "execution_count": 17,
      "outputs": [
        {
          "output_type": "error",
          "ename": "TypeError",
          "evalue": "unsupported operand type(s) for +: 'int' and 'str'",
          "traceback": [
            "\u001b[0;31m---------------------------------------------------------------------------\u001b[0m",
            "\u001b[0;31mTypeError\u001b[0m                                 Traceback (most recent call last)",
            "\u001b[0;32m<ipython-input-17-9e14780f7607>\u001b[0m in \u001b[0;36m<cell line: 1>\u001b[0;34m()\u001b[0m\n\u001b[0;32m----> 1\u001b[0;31m \u001b[0mx\u001b[0m\u001b[0;34m+\u001b[0m\u001b[0my\u001b[0m\u001b[0;34m\u001b[0m\u001b[0;34m\u001b[0m\u001b[0m\n\u001b[0m\u001b[1;32m      2\u001b[0m \u001b[0;31m#We can't add integer and string together, if we do it will give us error unless we type cast it (change the integer to a string using str()).\u001b[0m\u001b[0;34m\u001b[0m\u001b[0;34m\u001b[0m\u001b[0m\n",
            "\u001b[0;31mTypeError\u001b[0m: unsupported operand type(s) for +: 'int' and 'str'"
          ]
        }
      ]
    },
    {
      "cell_type": "markdown",
      "source": [
        "Finally, in the empty code chunk below, define a new variable whose value is a list with four entries, not all of the same type.\n",
        "\n",
        "Write a line of code that prints out the data type of the final item on your list."
      ],
      "metadata": {
        "id": "kMV9WLhAbIB3"
      }
    },
    {
      "cell_type": "code",
      "source": [
        "Names = [\"Eden\", \"Beza\", \"Tsion\", \"Suha\"]\n",
        "print(Names)"
      ],
      "metadata": {
        "id": "gcQdOoY9Ybdu",
        "colab": {
          "base_uri": "https://localhost:8080/"
        },
        "outputId": "05a278cf-e9d6-4184-b013-333568e82e11"
      },
      "execution_count": 15,
      "outputs": [
        {
          "output_type": "stream",
          "name": "stdout",
          "text": [
            "['Eden', 'Beza', 'Tsion', 'Suha']\n"
          ]
        }
      ]
    }
  ]
}