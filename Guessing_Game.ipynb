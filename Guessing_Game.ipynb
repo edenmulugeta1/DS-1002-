{
  "nbformat": 4,
  "nbformat_minor": 0,
  "metadata": {
    "colab": {
      "provenance": [],
      "authorship_tag": "ABX9TyPZY+pz5z1tyOrOh4eeiEk4",
      "include_colab_link": true
    },
    "kernelspec": {
      "name": "python3",
      "display_name": "Python 3"
    },
    "language_info": {
      "name": "python"
    }
  },
  "cells": [
    {
      "cell_type": "markdown",
      "metadata": {
        "id": "view-in-github",
        "colab_type": "text"
      },
      "source": [
        "<a href=\"https://colab.research.google.com/github/edenmulugeta1/DS-1002-/blob/main/Guessing_Game.ipynb\" target=\"_parent\"><img src=\"https://colab.research.google.com/assets/colab-badge.svg\" alt=\"Open In Colab\"/></a>"
      ]
    },
    {
      "cell_type": "markdown",
      "source": [
        "Name:\n",
        "\n",
        "*   Eden Mulugeta (unb6ny)\n",
        "*   Tsion Sahle (cnb8jw)\n",
        "\n",
        "\n",
        "It took us about 2 to 3 hours.\n",
        "\n",
        "---\n",
        "\n",
        "\n"
      ],
      "metadata": {
        "id": "ELt8Yw6B0amP"
      }
    },
    {
      "cell_type": "code",
      "execution_count": 23,
      "metadata": {
        "colab": {
          "base_uri": "https://localhost:8080/"
        },
        "id": "ona_QycWRBy9",
        "outputId": "1aac0d1e-37a5-4024-9b18-4dd69d771f4c"
      },
      "outputs": [
        {
          "output_type": "stream",
          "name": "stdout",
          "text": [
            "Welcome to the number guessing game! You will be guessing a number between 0 and 100.\n",
            "Now, I am generating a number between 0 and 100...\n",
            "Enter your guess: 60\n",
            "Too low! Try again.\n",
            "Enter your guess: 40\n",
            "Too low! Try again.\n",
            "Enter your guess: 70\n",
            "Too low! Try again.\n",
            "Enter your guess: 80\n",
            "Too low! Try again.\n",
            "Enter your guess: 90\n",
            "Too high! Try again.\n",
            "Enter your guess: 87\n",
            "Too high! Try again.\n",
            "Enter your guess: 85\n",
            "you got it after 7 guesses! The number was 85 .\n"
          ]
        }
      ],
      "source": [
        "def Guess_the_number():\n",
        "  #This will be displayed as the user opens the game (user interaction).\n",
        "  print(\"Welcome to the number guessing game! You will be guessing a number between 0 and 100.\")\n",
        "  print(\"Now, I am generating a number between 0 and 100...\")\n",
        "\n",
        "  #This generates a random number between 0 and 100\n",
        "  number = random.randint(0,100)\n",
        "\n",
        "  #To keep track of the number of guesses the user has made in the game\n",
        "  num_of_guesses = 0\n",
        "\n",
        "  #To keep the code to run until the player gets it right (code robust)\n",
        "  end_game = False\n",
        "\n",
        "  while not end_game:\n",
        "    try:\n",
        "\n",
        "      #Ask the player to input their guesses\n",
        "      player_guess = int(input(\"Enter your guess: \"))\n",
        "\n",
        "      #To keep counting as the guesses go up\n",
        "      num_of_guesses += 1\n",
        "\n",
        "      #To keep checking if the guess is correct\n",
        "      if player_guess == number:\n",
        "        print(\"you got it after\", num_of_guesses, \"guesses! The number was\", number,\".\")\n",
        "        #to end the loop once the player gets it right\n",
        "        end_game = True\n",
        "\n",
        "        #To stop the game from running after when the player doesn't get it right\n",
        "      else:\n",
        "        if player_guess > number:\n",
        "          print(\"Too high! Try again.\")\n",
        "        else:\n",
        "            print(\"Too low! Try again.\")\n",
        "\n",
        "    #To stop the game from running when the player doesn't put a valid number\n",
        "    except ValueError:\n",
        "        print(\"Enter a valid integer. Try again.\")\n",
        "\n",
        "#for the function to run the game\n",
        "Guess_the_number()\n"
      ]
    }
  ]
}